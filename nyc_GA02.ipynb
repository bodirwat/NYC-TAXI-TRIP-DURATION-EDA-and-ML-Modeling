{
 "cells": [
  {
   "cell_type": "code",
   "execution_count": 57,
   "id": "46fbd7ed",
   "metadata": {},
   "outputs": [
    {
     "name": "stdout",
     "output_type": "stream",
     "text": [
      "Defaulting to user installation because normal site-packages is not writeable\n",
      "Collecting sklearn\n",
      "  Using cached sklearn-0.0.post4.tar.gz (3.6 kB)\n",
      "  Preparing metadata (setup.py): started\n",
      "  Preparing metadata (setup.py): finished with status 'error'\n"
     ]
    },
    {
     "name": "stderr",
     "output_type": "stream",
     "text": [
      "  error: subprocess-exited-with-error\n",
      "  \n",
      "  python setup.py egg_info did not run successfully.\n",
      "  exit code: 1\n",
      "  \n",
      "  [8 lines of output]\n",
      "  Traceback (most recent call last):\n",
      "    File \"<string>\", line 2, in <module>\n",
      "    File \"<pip-setuptools-caller>\", line 34, in <module>\n",
      "    File \"C:\\Users\\TUTUser\\AppData\\Local\\Temp\\pip-install-ojx3ekyy\\sklearn_8ff524de0acb43f5885163a34535000b\\setup.py\", line 10, in <module>\n",
      "      LONG_DESCRIPTION = f.read()\n",
      "    File \"C:\\ProgramData\\anaconda3\\lib\\encodings\\cp1252.py\", line 23, in decode\n",
      "      return codecs.charmap_decode(input,self.errors,decoding_table)[0]\n",
      "  UnicodeDecodeError: 'charmap' codec can't decode byte 0x8f in position 7: character maps to <undefined>\n",
      "  [end of output]\n",
      "  \n",
      "  note: This error originates from a subprocess, and is likely not a problem with pip.\n",
      "error: metadata-generation-failed\n",
      "\n",
      "Encountered error while generating package metadata.\n",
      "\n",
      "See above for output.\n",
      "\n",
      "note: This is an issue with the package mentioned above, not pip.\n",
      "hint: See above for details.\n"
     ]
    },
    {
     "name": "stdout",
     "output_type": "stream",
     "text": [
      "Defaulting to user installation because normal site-packages is not writeable\n",
      "Requirement already satisfied: folium in c:\\users\\tutuser\\appdata\\roaming\\python\\python310\\site-packages (0.14.0)\n",
      "Requirement already satisfied: requests in c:\\programdata\\anaconda3\\lib\\site-packages (from folium) (2.28.1)\n",
      "Requirement already satisfied: branca>=0.6.0 in c:\\users\\tutuser\\appdata\\roaming\\python\\python310\\site-packages (from folium) (0.6.0)\n",
      "Requirement already satisfied: jinja2>=2.9 in c:\\programdata\\anaconda3\\lib\\site-packages (from folium) (3.1.2)\n",
      "Requirement already satisfied: numpy in c:\\programdata\\anaconda3\\lib\\site-packages (from folium) (1.23.5)\n",
      "Requirement already satisfied: MarkupSafe>=2.0 in c:\\programdata\\anaconda3\\lib\\site-packages (from jinja2>=2.9->folium) (2.1.1)\n",
      "Requirement already satisfied: idna<4,>=2.5 in c:\\programdata\\anaconda3\\lib\\site-packages (from requests->folium) (3.4)\n",
      "Requirement already satisfied: urllib3<1.27,>=1.21.1 in c:\\programdata\\anaconda3\\lib\\site-packages (from requests->folium) (1.26.14)\n",
      "Requirement already satisfied: charset-normalizer<3,>=2 in c:\\programdata\\anaconda3\\lib\\site-packages (from requests->folium) (2.0.4)\n",
      "Requirement already satisfied: certifi>=2017.4.17 in c:\\programdata\\anaconda3\\lib\\site-packages (from requests->folium) (2022.12.7)\n",
      "Defaulting to user installation because normal site-packages is not writeable\n",
      "Requirement already satisfied: pandas in c:\\programdata\\anaconda3\\lib\\site-packages (1.5.3)\n",
      "Requirement already satisfied: pytz>=2020.1 in c:\\programdata\\anaconda3\\lib\\site-packages (from pandas) (2022.7)\n",
      "Requirement already satisfied: python-dateutil>=2.8.1 in c:\\programdata\\anaconda3\\lib\\site-packages (from pandas) (2.8.2)\n",
      "Requirement already satisfied: numpy>=1.21.0 in c:\\programdata\\anaconda3\\lib\\site-packages (from pandas) (1.23.5)\n",
      "Requirement already satisfied: six>=1.5 in c:\\programdata\\anaconda3\\lib\\site-packages (from python-dateutil>=2.8.1->pandas) (1.16.0)\n"
     ]
    }
   ],
   "source": [
    "!pip install sklearn\n",
    "\n",
    "!pip install folium\n",
    "\n",
    "!pip install pandas\n"
   ]
  },
  {
   "cell_type": "code",
   "execution_count": 58,
   "id": "ef9f8ea9",
   "metadata": {},
   "outputs": [],
   "source": [
    "import pandas as pd\n",
    "import numpy as np\n",
    "import seaborn as sns\n",
    "import matplotlib.pyplot as plt\n",
    "from scipy.stats import zscore"
   ]
  },
  {
   "cell_type": "code",
   "execution_count": 74,
   "id": "4deba569",
   "metadata": {},
   "outputs": [
    {
     "data": {
      "text/html": [
       "<div>\n",
       "<style scoped>\n",
       "    .dataframe tbody tr th:only-of-type {\n",
       "        vertical-align: middle;\n",
       "    }\n",
       "\n",
       "    .dataframe tbody tr th {\n",
       "        vertical-align: top;\n",
       "    }\n",
       "\n",
       "    .dataframe thead th {\n",
       "        text-align: right;\n",
       "    }\n",
       "</style>\n",
       "<table border=\"1\" class=\"dataframe\">\n",
       "  <thead>\n",
       "    <tr style=\"text-align: right;\">\n",
       "      <th></th>\n",
       "      <th>id</th>\n",
       "      <th>vendor_id</th>\n",
       "      <th>pickup_datetime</th>\n",
       "      <th>dropoff_datetime</th>\n",
       "      <th>passenger_count</th>\n",
       "      <th>pickup_longitude</th>\n",
       "      <th>pickup_latitude</th>\n",
       "      <th>dropoff_longitude</th>\n",
       "      <th>dropoff_latitude</th>\n",
       "      <th>store_and_fwd_flag</th>\n",
       "      <th>trip_duration</th>\n",
       "    </tr>\n",
       "  </thead>\n",
       "  <tbody>\n",
       "    <tr>\n",
       "      <th>0</th>\n",
       "      <td>id1080784</td>\n",
       "      <td>2</td>\n",
       "      <td>2016-02-29 16:40:21</td>\n",
       "      <td>2016-02-29 16:47:01</td>\n",
       "      <td>1</td>\n",
       "      <td>-73.953918</td>\n",
       "      <td>40.778873</td>\n",
       "      <td>-73.963875</td>\n",
       "      <td>40.771164</td>\n",
       "      <td>N</td>\n",
       "      <td>400</td>\n",
       "    </tr>\n",
       "    <tr>\n",
       "      <th>1</th>\n",
       "      <td>id0889885</td>\n",
       "      <td>1</td>\n",
       "      <td>2016-03-11 23:35:37</td>\n",
       "      <td>2016-03-11 23:53:57</td>\n",
       "      <td>2</td>\n",
       "      <td>-73.988312</td>\n",
       "      <td>40.731743</td>\n",
       "      <td>-73.994751</td>\n",
       "      <td>40.694931</td>\n",
       "      <td>N</td>\n",
       "      <td>1100</td>\n",
       "    </tr>\n",
       "    <tr>\n",
       "      <th>2</th>\n",
       "      <td>id0857912</td>\n",
       "      <td>2</td>\n",
       "      <td>2016-02-21 17:59:33</td>\n",
       "      <td>2016-02-21 18:26:48</td>\n",
       "      <td>2</td>\n",
       "      <td>-73.997314</td>\n",
       "      <td>40.721458</td>\n",
       "      <td>-73.948029</td>\n",
       "      <td>40.774918</td>\n",
       "      <td>N</td>\n",
       "      <td>1635</td>\n",
       "    </tr>\n",
       "    <tr>\n",
       "      <th>3</th>\n",
       "      <td>id3744273</td>\n",
       "      <td>2</td>\n",
       "      <td>2016-01-05 09:44:31</td>\n",
       "      <td>2016-01-05 10:03:32</td>\n",
       "      <td>6</td>\n",
       "      <td>-73.961670</td>\n",
       "      <td>40.759720</td>\n",
       "      <td>-73.956779</td>\n",
       "      <td>40.780628</td>\n",
       "      <td>N</td>\n",
       "      <td>1141</td>\n",
       "    </tr>\n",
       "    <tr>\n",
       "      <th>4</th>\n",
       "      <td>id0232939</td>\n",
       "      <td>1</td>\n",
       "      <td>2016-02-17 06:42:23</td>\n",
       "      <td>2016-02-17 06:56:31</td>\n",
       "      <td>1</td>\n",
       "      <td>-74.017120</td>\n",
       "      <td>40.708469</td>\n",
       "      <td>-73.988182</td>\n",
       "      <td>40.740631</td>\n",
       "      <td>N</td>\n",
       "      <td>848</td>\n",
       "    </tr>\n",
       "  </tbody>\n",
       "</table>\n",
       "</div>"
      ],
      "text/plain": [
       "          id  vendor_id      pickup_datetime     dropoff_datetime  \\\n",
       "0  id1080784          2  2016-02-29 16:40:21  2016-02-29 16:47:01   \n",
       "1  id0889885          1  2016-03-11 23:35:37  2016-03-11 23:53:57   \n",
       "2  id0857912          2  2016-02-21 17:59:33  2016-02-21 18:26:48   \n",
       "3  id3744273          2  2016-01-05 09:44:31  2016-01-05 10:03:32   \n",
       "4  id0232939          1  2016-02-17 06:42:23  2016-02-17 06:56:31   \n",
       "\n",
       "   passenger_count  pickup_longitude  pickup_latitude  dropoff_longitude  \\\n",
       "0                1        -73.953918        40.778873         -73.963875   \n",
       "1                2        -73.988312        40.731743         -73.994751   \n",
       "2                2        -73.997314        40.721458         -73.948029   \n",
       "3                6        -73.961670        40.759720         -73.956779   \n",
       "4                1        -74.017120        40.708469         -73.988182   \n",
       "\n",
       "   dropoff_latitude store_and_fwd_flag  trip_duration  \n",
       "0         40.771164                  N            400  \n",
       "1         40.694931                  N           1100  \n",
       "2         40.774918                  N           1635  \n",
       "3         40.780628                  N           1141  \n",
       "4         40.740631                  N            848  "
      ]
     },
     "execution_count": 74,
     "metadata": {},
     "output_type": "execute_result"
    }
   ],
   "source": [
    "data = pd.read_csv(\"nyc_taxi_trip_duration.csv\")\n",
    "data.head()"
   ]
  },
  {
   "cell_type": "code",
   "execution_count": 75,
   "id": "15c0fad5",
   "metadata": {},
   "outputs": [
    {
     "data": {
      "text/html": [
       "<div>\n",
       "<style scoped>\n",
       "    .dataframe tbody tr th:only-of-type {\n",
       "        vertical-align: middle;\n",
       "    }\n",
       "\n",
       "    .dataframe tbody tr th {\n",
       "        vertical-align: top;\n",
       "    }\n",
       "\n",
       "    .dataframe thead th {\n",
       "        text-align: right;\n",
       "    }\n",
       "</style>\n",
       "<table border=\"1\" class=\"dataframe\">\n",
       "  <thead>\n",
       "    <tr style=\"text-align: right;\">\n",
       "      <th></th>\n",
       "      <th>id</th>\n",
       "      <th>vendor_id</th>\n",
       "      <th>pickup_datetime</th>\n",
       "      <th>dropoff_datetime</th>\n",
       "      <th>passenger_count</th>\n",
       "      <th>pickup_longitude</th>\n",
       "      <th>pickup_latitude</th>\n",
       "      <th>dropoff_longitude</th>\n",
       "      <th>dropoff_latitude</th>\n",
       "      <th>store_and_fwd_flag</th>\n",
       "      <th>trip_duration</th>\n",
       "    </tr>\n",
       "  </thead>\n",
       "  <tbody>\n",
       "    <tr>\n",
       "      <th>729317</th>\n",
       "      <td>id3905982</td>\n",
       "      <td>2</td>\n",
       "      <td>2016-05-21 13:29:38</td>\n",
       "      <td>2016-05-21 13:34:34</td>\n",
       "      <td>2</td>\n",
       "      <td>-73.965919</td>\n",
       "      <td>40.789780</td>\n",
       "      <td>-73.952637</td>\n",
       "      <td>40.789181</td>\n",
       "      <td>N</td>\n",
       "      <td>296</td>\n",
       "    </tr>\n",
       "    <tr>\n",
       "      <th>729318</th>\n",
       "      <td>id0102861</td>\n",
       "      <td>1</td>\n",
       "      <td>2016-02-22 00:43:11</td>\n",
       "      <td>2016-02-22 00:48:26</td>\n",
       "      <td>1</td>\n",
       "      <td>-73.996666</td>\n",
       "      <td>40.737434</td>\n",
       "      <td>-74.001320</td>\n",
       "      <td>40.731911</td>\n",
       "      <td>N</td>\n",
       "      <td>315</td>\n",
       "    </tr>\n",
       "    <tr>\n",
       "      <th>729319</th>\n",
       "      <td>id0439699</td>\n",
       "      <td>1</td>\n",
       "      <td>2016-04-15 18:56:48</td>\n",
       "      <td>2016-04-15 19:08:01</td>\n",
       "      <td>1</td>\n",
       "      <td>-73.997849</td>\n",
       "      <td>40.761696</td>\n",
       "      <td>-74.001488</td>\n",
       "      <td>40.741207</td>\n",
       "      <td>N</td>\n",
       "      <td>673</td>\n",
       "    </tr>\n",
       "    <tr>\n",
       "      <th>729320</th>\n",
       "      <td>id2078912</td>\n",
       "      <td>1</td>\n",
       "      <td>2016-06-19 09:50:47</td>\n",
       "      <td>2016-06-19 09:58:14</td>\n",
       "      <td>1</td>\n",
       "      <td>-74.006706</td>\n",
       "      <td>40.708244</td>\n",
       "      <td>-74.013550</td>\n",
       "      <td>40.713814</td>\n",
       "      <td>N</td>\n",
       "      <td>447</td>\n",
       "    </tr>\n",
       "    <tr>\n",
       "      <th>729321</th>\n",
       "      <td>id1053441</td>\n",
       "      <td>2</td>\n",
       "      <td>2016-01-01 17:24:16</td>\n",
       "      <td>2016-01-01 17:44:40</td>\n",
       "      <td>4</td>\n",
       "      <td>-74.003342</td>\n",
       "      <td>40.743839</td>\n",
       "      <td>-73.945847</td>\n",
       "      <td>40.712841</td>\n",
       "      <td>N</td>\n",
       "      <td>1224</td>\n",
       "    </tr>\n",
       "  </tbody>\n",
       "</table>\n",
       "</div>"
      ],
      "text/plain": [
       "               id  vendor_id      pickup_datetime     dropoff_datetime  \\\n",
       "729317  id3905982          2  2016-05-21 13:29:38  2016-05-21 13:34:34   \n",
       "729318  id0102861          1  2016-02-22 00:43:11  2016-02-22 00:48:26   \n",
       "729319  id0439699          1  2016-04-15 18:56:48  2016-04-15 19:08:01   \n",
       "729320  id2078912          1  2016-06-19 09:50:47  2016-06-19 09:58:14   \n",
       "729321  id1053441          2  2016-01-01 17:24:16  2016-01-01 17:44:40   \n",
       "\n",
       "        passenger_count  pickup_longitude  pickup_latitude  dropoff_longitude  \\\n",
       "729317                2        -73.965919        40.789780         -73.952637   \n",
       "729318                1        -73.996666        40.737434         -74.001320   \n",
       "729319                1        -73.997849        40.761696         -74.001488   \n",
       "729320                1        -74.006706        40.708244         -74.013550   \n",
       "729321                4        -74.003342        40.743839         -73.945847   \n",
       "\n",
       "        dropoff_latitude store_and_fwd_flag  trip_duration  \n",
       "729317         40.789181                  N            296  \n",
       "729318         40.731911                  N            315  \n",
       "729319         40.741207                  N            673  \n",
       "729320         40.713814                  N            447  \n",
       "729321         40.712841                  N           1224  "
      ]
     },
     "execution_count": 75,
     "metadata": {},
     "output_type": "execute_result"
    }
   ],
   "source": [
    "data.tail()\n"
   ]
  },
  {
   "cell_type": "code",
   "execution_count": 76,
   "id": "139397a6",
   "metadata": {},
   "outputs": [
    {
     "data": {
      "text/plain": [
       "(729322, 11)"
      ]
     },
     "execution_count": 76,
     "metadata": {},
     "output_type": "execute_result"
    }
   ],
   "source": [
    "data.shape"
   ]
  },
  {
   "cell_type": "code",
   "execution_count": 77,
   "id": "4e773dc3",
   "metadata": {},
   "outputs": [
    {
     "data": {
      "text/plain": [
       "8022542"
      ]
     },
     "execution_count": 77,
     "metadata": {},
     "output_type": "execute_result"
    }
   ],
   "source": [
    "data.size"
   ]
  },
  {
   "cell_type": "code",
   "execution_count": 78,
   "id": "33870652",
   "metadata": {},
   "outputs": [
    {
     "data": {
      "text/plain": [
       "Index(['id', 'vendor_id', 'pickup_datetime', 'dropoff_datetime',\n",
       "       'passenger_count', 'pickup_longitude', 'pickup_latitude',\n",
       "       'dropoff_longitude', 'dropoff_latitude', 'store_and_fwd_flag',\n",
       "       'trip_duration'],\n",
       "      dtype='object')"
      ]
     },
     "execution_count": 78,
     "metadata": {},
     "output_type": "execute_result"
    }
   ],
   "source": [
    "data.columns"
   ]
  },
  {
   "cell_type": "code",
   "execution_count": 79,
   "id": "26e41d61",
   "metadata": {},
   "outputs": [
    {
     "data": {
      "text/plain": [
       "<bound method DataFrame.info of                id  vendor_id      pickup_datetime     dropoff_datetime  \\\n",
       "0       id1080784          2  2016-02-29 16:40:21  2016-02-29 16:47:01   \n",
       "1       id0889885          1  2016-03-11 23:35:37  2016-03-11 23:53:57   \n",
       "2       id0857912          2  2016-02-21 17:59:33  2016-02-21 18:26:48   \n",
       "3       id3744273          2  2016-01-05 09:44:31  2016-01-05 10:03:32   \n",
       "4       id0232939          1  2016-02-17 06:42:23  2016-02-17 06:56:31   \n",
       "...           ...        ...                  ...                  ...   \n",
       "729317  id3905982          2  2016-05-21 13:29:38  2016-05-21 13:34:34   \n",
       "729318  id0102861          1  2016-02-22 00:43:11  2016-02-22 00:48:26   \n",
       "729319  id0439699          1  2016-04-15 18:56:48  2016-04-15 19:08:01   \n",
       "729320  id2078912          1  2016-06-19 09:50:47  2016-06-19 09:58:14   \n",
       "729321  id1053441          2  2016-01-01 17:24:16  2016-01-01 17:44:40   \n",
       "\n",
       "        passenger_count  pickup_longitude  pickup_latitude  dropoff_longitude  \\\n",
       "0                     1        -73.953918        40.778873         -73.963875   \n",
       "1                     2        -73.988312        40.731743         -73.994751   \n",
       "2                     2        -73.997314        40.721458         -73.948029   \n",
       "3                     6        -73.961670        40.759720         -73.956779   \n",
       "4                     1        -74.017120        40.708469         -73.988182   \n",
       "...                 ...               ...              ...                ...   \n",
       "729317                2        -73.965919        40.789780         -73.952637   \n",
       "729318                1        -73.996666        40.737434         -74.001320   \n",
       "729319                1        -73.997849        40.761696         -74.001488   \n",
       "729320                1        -74.006706        40.708244         -74.013550   \n",
       "729321                4        -74.003342        40.743839         -73.945847   \n",
       "\n",
       "        dropoff_latitude store_and_fwd_flag  trip_duration  \n",
       "0              40.771164                  N            400  \n",
       "1              40.694931                  N           1100  \n",
       "2              40.774918                  N           1635  \n",
       "3              40.780628                  N           1141  \n",
       "4              40.740631                  N            848  \n",
       "...                  ...                ...            ...  \n",
       "729317         40.789181                  N            296  \n",
       "729318         40.731911                  N            315  \n",
       "729319         40.741207                  N            673  \n",
       "729320         40.713814                  N            447  \n",
       "729321         40.712841                  N           1224  \n",
       "\n",
       "[729322 rows x 11 columns]>"
      ]
     },
     "execution_count": 79,
     "metadata": {},
     "output_type": "execute_result"
    }
   ],
   "source": [
    "data.info"
   ]
  },
  {
   "cell_type": "code",
   "execution_count": 80,
   "id": "96d7069c",
   "metadata": {},
   "outputs": [
    {
     "data": {
      "text/plain": [
       "id                    0\n",
       "vendor_id             0\n",
       "pickup_datetime       0\n",
       "dropoff_datetime      0\n",
       "passenger_count       0\n",
       "pickup_longitude      0\n",
       "pickup_latitude       0\n",
       "dropoff_longitude     0\n",
       "dropoff_latitude      0\n",
       "store_and_fwd_flag    0\n",
       "trip_duration         0\n",
       "dtype: int64"
      ]
     },
     "execution_count": 80,
     "metadata": {},
     "output_type": "execute_result"
    }
   ],
   "source": [
    "#========check missing values=========\n",
    "data.isnull().sum()"
   ]
  },
  {
   "cell_type": "code",
   "execution_count": 81,
   "id": "8b8977cb",
   "metadata": {},
   "outputs": [
    {
     "data": {
      "text/plain": [
       "id                     object\n",
       "vendor_id               int64\n",
       "pickup_datetime        object\n",
       "dropoff_datetime       object\n",
       "passenger_count         int64\n",
       "pickup_longitude      float64\n",
       "pickup_latitude       float64\n",
       "dropoff_longitude     float64\n",
       "dropoff_latitude      float64\n",
       "store_and_fwd_flag     object\n",
       "trip_duration           int64\n",
       "dtype: object"
      ]
     },
     "execution_count": 81,
     "metadata": {},
     "output_type": "execute_result"
    }
   ],
   "source": [
    "data.dtypes"
   ]
  },
  {
   "cell_type": "code",
   "execution_count": 82,
   "id": "7cba74e9",
   "metadata": {},
   "outputs": [],
   "source": [
    "\n",
    "data['pickup_datetime'] = pd.to_datetime(data['pickup_datetime']).astype('int64') // 10**9\n",
    "data['dropoff_datetime'] = pd.to_datetime(data['dropoff_datetime']).astype('int64') // 10**9"
   ]
  },
  {
   "cell_type": "code",
   "execution_count": 83,
   "id": "105248fd",
   "metadata": {},
   "outputs": [],
   "source": [
    "#drop id column\n",
    "\n",
    "data = data.drop(\"id\", axis=1)"
   ]
  },
  {
   "cell_type": "code",
   "execution_count": 84,
   "id": "6d174c34",
   "metadata": {
    "scrolled": true
   },
   "outputs": [
    {
     "data": {
      "text/html": [
       "<div>\n",
       "<style scoped>\n",
       "    .dataframe tbody tr th:only-of-type {\n",
       "        vertical-align: middle;\n",
       "    }\n",
       "\n",
       "    .dataframe tbody tr th {\n",
       "        vertical-align: top;\n",
       "    }\n",
       "\n",
       "    .dataframe thead th {\n",
       "        text-align: right;\n",
       "    }\n",
       "</style>\n",
       "<table border=\"1\" class=\"dataframe\">\n",
       "  <thead>\n",
       "    <tr style=\"text-align: right;\">\n",
       "      <th></th>\n",
       "      <th>vendor_id</th>\n",
       "      <th>pickup_datetime</th>\n",
       "      <th>dropoff_datetime</th>\n",
       "      <th>passenger_count</th>\n",
       "      <th>pickup_longitude</th>\n",
       "      <th>pickup_latitude</th>\n",
       "      <th>dropoff_longitude</th>\n",
       "      <th>dropoff_latitude</th>\n",
       "      <th>store_and_fwd_flag</th>\n",
       "      <th>trip_duration</th>\n",
       "    </tr>\n",
       "  </thead>\n",
       "  <tbody>\n",
       "    <tr>\n",
       "      <th>0</th>\n",
       "      <td>2</td>\n",
       "      <td>1456764021</td>\n",
       "      <td>1456764421</td>\n",
       "      <td>1</td>\n",
       "      <td>-73.953918</td>\n",
       "      <td>40.778873</td>\n",
       "      <td>-73.963875</td>\n",
       "      <td>40.771164</td>\n",
       "      <td>0</td>\n",
       "      <td>400</td>\n",
       "    </tr>\n",
       "    <tr>\n",
       "      <th>1</th>\n",
       "      <td>1</td>\n",
       "      <td>1457739337</td>\n",
       "      <td>1457740437</td>\n",
       "      <td>2</td>\n",
       "      <td>-73.988312</td>\n",
       "      <td>40.731743</td>\n",
       "      <td>-73.994751</td>\n",
       "      <td>40.694931</td>\n",
       "      <td>0</td>\n",
       "      <td>1100</td>\n",
       "    </tr>\n",
       "    <tr>\n",
       "      <th>2</th>\n",
       "      <td>2</td>\n",
       "      <td>1456077573</td>\n",
       "      <td>1456079208</td>\n",
       "      <td>2</td>\n",
       "      <td>-73.997314</td>\n",
       "      <td>40.721458</td>\n",
       "      <td>-73.948029</td>\n",
       "      <td>40.774918</td>\n",
       "      <td>0</td>\n",
       "      <td>1635</td>\n",
       "    </tr>\n",
       "    <tr>\n",
       "      <th>3</th>\n",
       "      <td>2</td>\n",
       "      <td>1451987071</td>\n",
       "      <td>1451988212</td>\n",
       "      <td>6</td>\n",
       "      <td>-73.961670</td>\n",
       "      <td>40.759720</td>\n",
       "      <td>-73.956779</td>\n",
       "      <td>40.780628</td>\n",
       "      <td>0</td>\n",
       "      <td>1141</td>\n",
       "    </tr>\n",
       "    <tr>\n",
       "      <th>4</th>\n",
       "      <td>1</td>\n",
       "      <td>1455691343</td>\n",
       "      <td>1455692191</td>\n",
       "      <td>1</td>\n",
       "      <td>-74.017120</td>\n",
       "      <td>40.708469</td>\n",
       "      <td>-73.988182</td>\n",
       "      <td>40.740631</td>\n",
       "      <td>0</td>\n",
       "      <td>848</td>\n",
       "    </tr>\n",
       "  </tbody>\n",
       "</table>\n",
       "</div>"
      ],
      "text/plain": [
       "   vendor_id  pickup_datetime  dropoff_datetime  passenger_count  \\\n",
       "0          2       1456764021        1456764421                1   \n",
       "1          1       1457739337        1457740437                2   \n",
       "2          2       1456077573        1456079208                2   \n",
       "3          2       1451987071        1451988212                6   \n",
       "4          1       1455691343        1455692191                1   \n",
       "\n",
       "   pickup_longitude  pickup_latitude  dropoff_longitude  dropoff_latitude  \\\n",
       "0        -73.953918        40.778873         -73.963875         40.771164   \n",
       "1        -73.988312        40.731743         -73.994751         40.694931   \n",
       "2        -73.997314        40.721458         -73.948029         40.774918   \n",
       "3        -73.961670        40.759720         -73.956779         40.780628   \n",
       "4        -74.017120        40.708469         -73.988182         40.740631   \n",
       "\n",
       "   store_and_fwd_flag  trip_duration  \n",
       "0                   0            400  \n",
       "1                   0           1100  \n",
       "2                   0           1635  \n",
       "3                   0           1141  \n",
       "4                   0            848  "
      ]
     },
     "execution_count": 84,
     "metadata": {},
     "output_type": "execute_result"
    }
   ],
   "source": [
    "# categorical data\n",
    "data[\"store_and_fwd_flag\"] = data[\"store_and_fwd_flag\"].apply(lambda x: 1 if x == \"Y\" else 0)\n",
    "data.head()"
   ]
  },
  {
   "cell_type": "code",
   "execution_count": 85,
   "id": "d062f8bd",
   "metadata": {},
   "outputs": [
    {
     "data": {
      "text/html": [
       "<div>\n",
       "<style scoped>\n",
       "    .dataframe tbody tr th:only-of-type {\n",
       "        vertical-align: middle;\n",
       "    }\n",
       "\n",
       "    .dataframe tbody tr th {\n",
       "        vertical-align: top;\n",
       "    }\n",
       "\n",
       "    .dataframe thead th {\n",
       "        text-align: right;\n",
       "    }\n",
       "</style>\n",
       "<table border=\"1\" class=\"dataframe\">\n",
       "  <thead>\n",
       "    <tr style=\"text-align: right;\">\n",
       "      <th></th>\n",
       "      <th>vendor_id</th>\n",
       "      <th>pickup_datetime</th>\n",
       "      <th>dropoff_datetime</th>\n",
       "      <th>passenger_count</th>\n",
       "      <th>pickup_longitude</th>\n",
       "      <th>pickup_latitude</th>\n",
       "      <th>dropoff_longitude</th>\n",
       "      <th>dropoff_latitude</th>\n",
       "      <th>store_and_fwd_flag</th>\n",
       "      <th>trip_duration</th>\n",
       "      <th>longitude_distance</th>\n",
       "      <th>latitude_distance</th>\n",
       "    </tr>\n",
       "  </thead>\n",
       "  <tbody>\n",
       "    <tr>\n",
       "      <th>0</th>\n",
       "      <td>2</td>\n",
       "      <td>1456764021</td>\n",
       "      <td>1456764421</td>\n",
       "      <td>1</td>\n",
       "      <td>-73.953918</td>\n",
       "      <td>40.778873</td>\n",
       "      <td>-73.963875</td>\n",
       "      <td>40.771164</td>\n",
       "      <td>0</td>\n",
       "      <td>400</td>\n",
       "      <td>0.009956</td>\n",
       "      <td>0.007710</td>\n",
       "    </tr>\n",
       "    <tr>\n",
       "      <th>1</th>\n",
       "      <td>1</td>\n",
       "      <td>1457739337</td>\n",
       "      <td>1457740437</td>\n",
       "      <td>2</td>\n",
       "      <td>-73.988312</td>\n",
       "      <td>40.731743</td>\n",
       "      <td>-73.994751</td>\n",
       "      <td>40.694931</td>\n",
       "      <td>0</td>\n",
       "      <td>1100</td>\n",
       "      <td>0.006439</td>\n",
       "      <td>0.036812</td>\n",
       "    </tr>\n",
       "    <tr>\n",
       "      <th>2</th>\n",
       "      <td>2</td>\n",
       "      <td>1456077573</td>\n",
       "      <td>1456079208</td>\n",
       "      <td>2</td>\n",
       "      <td>-73.997314</td>\n",
       "      <td>40.721458</td>\n",
       "      <td>-73.948029</td>\n",
       "      <td>40.774918</td>\n",
       "      <td>0</td>\n",
       "      <td>1635</td>\n",
       "      <td>0.049286</td>\n",
       "      <td>0.053459</td>\n",
       "    </tr>\n",
       "    <tr>\n",
       "      <th>3</th>\n",
       "      <td>2</td>\n",
       "      <td>1451987071</td>\n",
       "      <td>1451988212</td>\n",
       "      <td>6</td>\n",
       "      <td>-73.961670</td>\n",
       "      <td>40.759720</td>\n",
       "      <td>-73.956779</td>\n",
       "      <td>40.780628</td>\n",
       "      <td>0</td>\n",
       "      <td>1141</td>\n",
       "      <td>0.004890</td>\n",
       "      <td>0.020908</td>\n",
       "    </tr>\n",
       "    <tr>\n",
       "      <th>4</th>\n",
       "      <td>1</td>\n",
       "      <td>1455691343</td>\n",
       "      <td>1455692191</td>\n",
       "      <td>1</td>\n",
       "      <td>-74.017120</td>\n",
       "      <td>40.708469</td>\n",
       "      <td>-73.988182</td>\n",
       "      <td>40.740631</td>\n",
       "      <td>0</td>\n",
       "      <td>848</td>\n",
       "      <td>0.028938</td>\n",
       "      <td>0.032162</td>\n",
       "    </tr>\n",
       "  </tbody>\n",
       "</table>\n",
       "</div>"
      ],
      "text/plain": [
       "   vendor_id  pickup_datetime  dropoff_datetime  passenger_count  \\\n",
       "0          2       1456764021        1456764421                1   \n",
       "1          1       1457739337        1457740437                2   \n",
       "2          2       1456077573        1456079208                2   \n",
       "3          2       1451987071        1451988212                6   \n",
       "4          1       1455691343        1455692191                1   \n",
       "\n",
       "   pickup_longitude  pickup_latitude  dropoff_longitude  dropoff_latitude  \\\n",
       "0        -73.953918        40.778873         -73.963875         40.771164   \n",
       "1        -73.988312        40.731743         -73.994751         40.694931   \n",
       "2        -73.997314        40.721458         -73.948029         40.774918   \n",
       "3        -73.961670        40.759720         -73.956779         40.780628   \n",
       "4        -74.017120        40.708469         -73.988182         40.740631   \n",
       "\n",
       "   store_and_fwd_flag  trip_duration  longitude_distance  latitude_distance  \n",
       "0                   0            400            0.009956           0.007710  \n",
       "1                   0           1100            0.006439           0.036812  \n",
       "2                   0           1635            0.049286           0.053459  \n",
       "3                   0           1141            0.004890           0.020908  \n",
       "4                   0            848            0.028938           0.032162  "
      ]
     },
     "execution_count": 85,
     "metadata": {},
     "output_type": "execute_result"
    }
   ],
   "source": [
    "data[\"longitude_distance\"] = abs(data[\"pickup_longitude\"] - data[\"dropoff_longitude\"])\n",
    "data[\"latitude_distance\"] = abs(data[\"pickup_latitude\"] - data[\"dropoff_latitude\"])\n",
    "\n",
    "\n",
    "\n",
    "\n",
    "data.head()"
   ]
  },
  {
   "cell_type": "code",
   "execution_count": 86,
   "id": "4308ea41",
   "metadata": {
    "scrolled": true
   },
   "outputs": [
    {
     "data": {
      "text/plain": [
       "<Axes: >"
      ]
     },
     "execution_count": 86,
     "metadata": {},
     "output_type": "execute_result"
    },
    {
     "data": {
      "image/png": "[encoded data removed]",
      "text/plain": [
       "<Figure size 640x480 with 1 Axes>"
      ]
     },
     "metadata": {},
     "output_type": "display_data"
    }
   ],
   "source": [
    "# check for outliers\n",
    "\n",
    "# Check for outliers\n",
    "sns.boxplot(data=data, orient=\"h\")"
   ]
  },
  {
   "attachments": {},
   "cell_type": "markdown",
   "id": "58e0cb5a",
   "metadata": {},
   "source": [
    "# dealing with outliers!"
   ]
  },
  {
   "cell_type": "code",
   "execution_count": 87,
   "id": "263bf9a8",
   "metadata": {},
   "outputs": [
    {
     "data": {
      "text/plain": [
       "(397.0, 1075.0)"
      ]
     },
     "execution_count": 87,
     "metadata": {},
     "output_type": "execute_result"
    }
   ],
   "source": [
    "data[\"trip_duration\"].quantile(0.25) , data[\"trip_duration\"].quantile(0.75)"
   ]
  },
  {
   "cell_type": "code",
   "execution_count": 88,
   "id": "1b83c5fe",
   "metadata": {},
   "outputs": [
    {
     "data": {
      "text/plain": [
       "678.0"
      ]
     },
     "execution_count": 88,
     "metadata": {},
     "output_type": "execute_result"
    }
   ],
   "source": [
    "IQR = data[\"trip_duration\"].quantile(0.75) -data[\"trip_duration\"].quantile(0.25) \n",
    "IQR"
   ]
  },
  {
   "cell_type": "code",
   "execution_count": 89,
   "id": "260d5020",
   "metadata": {},
   "outputs": [
    {
     "data": {
      "text/plain": [
       "(-620.0, 2092.0)"
      ]
     },
     "execution_count": 89,
     "metadata": {},
     "output_type": "execute_result"
    }
   ],
   "source": [
    "q1 = data[\"trip_duration\"].quantile(0.25)\n",
    "q3 = data[\"trip_duration\"].quantile(0.75)\n",
    "\n",
    "lower_wh1 = q1 - (1.5*IQR)\n",
    "upper_wh2 = q3 + (1.5*IQR)\n",
    "\n",
    "lower_wh1, upper_wh2\n",
    "#outliers = data[(data['trip_duration'] < lower_wh1) | (data['trip_duration'] > upper_wh2)]\n",
    "#outliers                               \n",
    "                                    "
   ]
  },
  {
   "cell_type": "code",
   "execution_count": 90,
   "id": "1d0080f3",
   "metadata": {},
   "outputs": [
    {
     "data": {
      "text/html": [
       "<div>\n",
       "<style scoped>\n",
       "    .dataframe tbody tr th:only-of-type {\n",
       "        vertical-align: middle;\n",
       "    }\n",
       "\n",
       "    .dataframe tbody tr th {\n",
       "        vertical-align: top;\n",
       "    }\n",
       "\n",
       "    .dataframe thead th {\n",
       "        text-align: right;\n",
       "    }\n",
       "</style>\n",
       "<table border=\"1\" class=\"dataframe\">\n",
       "  <thead>\n",
       "    <tr style=\"text-align: right;\">\n",
       "      <th></th>\n",
       "      <th>vendor_id</th>\n",
       "      <th>pickup_datetime</th>\n",
       "      <th>dropoff_datetime</th>\n",
       "      <th>passenger_count</th>\n",
       "      <th>pickup_longitude</th>\n",
       "      <th>pickup_latitude</th>\n",
       "      <th>dropoff_longitude</th>\n",
       "      <th>dropoff_latitude</th>\n",
       "      <th>store_and_fwd_flag</th>\n",
       "      <th>trip_duration</th>\n",
       "      <th>longitude_distance</th>\n",
       "      <th>latitude_distance</th>\n",
       "    </tr>\n",
       "  </thead>\n",
       "  <tbody>\n",
       "    <tr>\n",
       "      <th>15</th>\n",
       "      <td>2</td>\n",
       "      <td>1456019774</td>\n",
       "      <td>1456105938</td>\n",
       "      <td>1</td>\n",
       "      <td>-74.002876</td>\n",
       "      <td>40.734131</td>\n",
       "      <td>-73.955399</td>\n",
       "      <td>40.767502</td>\n",
       "      <td>0</td>\n",
       "      <td>86164</td>\n",
       "      <td>0.047478</td>\n",
       "      <td>0.033371</td>\n",
       "    </tr>\n",
       "    <tr>\n",
       "      <th>26</th>\n",
       "      <td>1</td>\n",
       "      <td>1466952605</td>\n",
       "      <td>1466954955</td>\n",
       "      <td>2</td>\n",
       "      <td>-74.000168</td>\n",
       "      <td>40.758141</td>\n",
       "      <td>-73.947266</td>\n",
       "      <td>40.764793</td>\n",
       "      <td>0</td>\n",
       "      <td>2350</td>\n",
       "      <td>0.052902</td>\n",
       "      <td>0.006653</td>\n",
       "    </tr>\n",
       "    <tr>\n",
       "      <th>42</th>\n",
       "      <td>1</td>\n",
       "      <td>1456936180</td>\n",
       "      <td>1456938369</td>\n",
       "      <td>1</td>\n",
       "      <td>-73.997459</td>\n",
       "      <td>40.724735</td>\n",
       "      <td>-73.954414</td>\n",
       "      <td>40.669811</td>\n",
       "      <td>0</td>\n",
       "      <td>2189</td>\n",
       "      <td>0.043045</td>\n",
       "      <td>0.054924</td>\n",
       "    </tr>\n",
       "    <tr>\n",
       "      <th>55</th>\n",
       "      <td>1</td>\n",
       "      <td>1464649440</td>\n",
       "      <td>1464651720</td>\n",
       "      <td>1</td>\n",
       "      <td>-73.984367</td>\n",
       "      <td>40.760208</td>\n",
       "      <td>-73.913246</td>\n",
       "      <td>40.686783</td>\n",
       "      <td>0</td>\n",
       "      <td>2280</td>\n",
       "      <td>0.071121</td>\n",
       "      <td>0.073425</td>\n",
       "    </tr>\n",
       "    <tr>\n",
       "      <th>74</th>\n",
       "      <td>2</td>\n",
       "      <td>1464974989</td>\n",
       "      <td>1464977140</td>\n",
       "      <td>1</td>\n",
       "      <td>-74.006973</td>\n",
       "      <td>40.675991</td>\n",
       "      <td>-73.949379</td>\n",
       "      <td>40.717659</td>\n",
       "      <td>0</td>\n",
       "      <td>2151</td>\n",
       "      <td>0.057594</td>\n",
       "      <td>0.041668</td>\n",
       "    </tr>\n",
       "    <tr>\n",
       "      <th>...</th>\n",
       "      <td>...</td>\n",
       "      <td>...</td>\n",
       "      <td>...</td>\n",
       "      <td>...</td>\n",
       "      <td>...</td>\n",
       "      <td>...</td>\n",
       "      <td>...</td>\n",
       "      <td>...</td>\n",
       "      <td>...</td>\n",
       "      <td>...</td>\n",
       "      <td>...</td>\n",
       "      <td>...</td>\n",
       "    </tr>\n",
       "    <tr>\n",
       "      <th>729221</th>\n",
       "      <td>2</td>\n",
       "      <td>1454022877</td>\n",
       "      <td>1454025544</td>\n",
       "      <td>1</td>\n",
       "      <td>-73.979088</td>\n",
       "      <td>40.755871</td>\n",
       "      <td>-73.949471</td>\n",
       "      <td>40.594769</td>\n",
       "      <td>0</td>\n",
       "      <td>2667</td>\n",
       "      <td>0.029617</td>\n",
       "      <td>0.161102</td>\n",
       "    </tr>\n",
       "    <tr>\n",
       "      <th>729232</th>\n",
       "      <td>2</td>\n",
       "      <td>1466210601</td>\n",
       "      <td>1466213883</td>\n",
       "      <td>1</td>\n",
       "      <td>-73.999741</td>\n",
       "      <td>40.728352</td>\n",
       "      <td>-73.964348</td>\n",
       "      <td>40.760529</td>\n",
       "      <td>0</td>\n",
       "      <td>3282</td>\n",
       "      <td>0.035393</td>\n",
       "      <td>0.032177</td>\n",
       "    </tr>\n",
       "    <tr>\n",
       "      <th>729273</th>\n",
       "      <td>2</td>\n",
       "      <td>1460371079</td>\n",
       "      <td>1460374305</td>\n",
       "      <td>2</td>\n",
       "      <td>-73.782272</td>\n",
       "      <td>40.644493</td>\n",
       "      <td>-74.009514</td>\n",
       "      <td>40.713406</td>\n",
       "      <td>0</td>\n",
       "      <td>3226</td>\n",
       "      <td>0.227242</td>\n",
       "      <td>0.068913</td>\n",
       "    </tr>\n",
       "    <tr>\n",
       "      <th>729276</th>\n",
       "      <td>1</td>\n",
       "      <td>1465499554</td>\n",
       "      <td>1465502039</td>\n",
       "      <td>1</td>\n",
       "      <td>-73.964828</td>\n",
       "      <td>40.757729</td>\n",
       "      <td>-73.790283</td>\n",
       "      <td>40.643536</td>\n",
       "      <td>0</td>\n",
       "      <td>2485</td>\n",
       "      <td>0.174545</td>\n",
       "      <td>0.114193</td>\n",
       "    </tr>\n",
       "    <tr>\n",
       "      <th>729306</th>\n",
       "      <td>2</td>\n",
       "      <td>1457276043</td>\n",
       "      <td>1457279349</td>\n",
       "      <td>6</td>\n",
       "      <td>-73.983070</td>\n",
       "      <td>40.757626</td>\n",
       "      <td>-73.861641</td>\n",
       "      <td>40.768276</td>\n",
       "      <td>0</td>\n",
       "      <td>3306</td>\n",
       "      <td>0.121429</td>\n",
       "      <td>0.010651</td>\n",
       "    </tr>\n",
       "  </tbody>\n",
       "</table>\n",
       "<p>36963 rows × 12 columns</p>\n",
       "</div>"
      ],
      "text/plain": [
       "        vendor_id  pickup_datetime  dropoff_datetime  passenger_count  \\\n",
       "15              2       1456019774        1456105938                1   \n",
       "26              1       1466952605        1466954955                2   \n",
       "42              1       1456936180        1456938369                1   \n",
       "55              1       1464649440        1464651720                1   \n",
       "74              2       1464974989        1464977140                1   \n",
       "...           ...              ...               ...              ...   \n",
       "729221          2       1454022877        1454025544                1   \n",
       "729232          2       1466210601        1466213883                1   \n",
       "729273          2       1460371079        1460374305                2   \n",
       "729276          1       1465499554        1465502039                1   \n",
       "729306          2       1457276043        1457279349                6   \n",
       "\n",
       "        pickup_longitude  pickup_latitude  dropoff_longitude  \\\n",
       "15            -74.002876        40.734131         -73.955399   \n",
       "26            -74.000168        40.758141         -73.947266   \n",
       "42            -73.997459        40.724735         -73.954414   \n",
       "55            -73.984367        40.760208         -73.913246   \n",
       "74            -74.006973        40.675991         -73.949379   \n",
       "...                  ...              ...                ...   \n",
       "729221        -73.979088        40.755871         -73.949471   \n",
       "729232        -73.999741        40.728352         -73.964348   \n",
       "729273        -73.782272        40.644493         -74.009514   \n",
       "729276        -73.964828        40.757729         -73.790283   \n",
       "729306        -73.983070        40.757626         -73.861641   \n",
       "\n",
       "        dropoff_latitude  store_and_fwd_flag  trip_duration  \\\n",
       "15             40.767502                   0          86164   \n",
       "26             40.764793                   0           2350   \n",
       "42             40.669811                   0           2189   \n",
       "55             40.686783                   0           2280   \n",
       "74             40.717659                   0           2151   \n",
       "...                  ...                 ...            ...   \n",
       "729221         40.594769                   0           2667   \n",
       "729232         40.760529                   0           3282   \n",
       "729273         40.713406                   0           3226   \n",
       "729276         40.643536                   0           2485   \n",
       "729306         40.768276                   0           3306   \n",
       "\n",
       "        longitude_distance  latitude_distance  \n",
       "15                0.047478           0.033371  \n",
       "26                0.052902           0.006653  \n",
       "42                0.043045           0.054924  \n",
       "55                0.071121           0.073425  \n",
       "74                0.057594           0.041668  \n",
       "...                    ...                ...  \n",
       "729221            0.029617           0.161102  \n",
       "729232            0.035393           0.032177  \n",
       "729273            0.227242           0.068913  \n",
       "729276            0.174545           0.114193  \n",
       "729306            0.121429           0.010651  \n",
       "\n",
       "[36963 rows x 12 columns]"
      ]
     },
     "execution_count": 90,
     "metadata": {},
     "output_type": "execute_result"
    }
   ],
   "source": [
    "data.loc[data['trip_duration']>2092]"
   ]
  },
  {
   "cell_type": "code",
   "execution_count": 91,
   "id": "0a1b1b07",
   "metadata": {},
   "outputs": [],
   "source": [
    "# deleting outliers\n",
    "data = data.drop(data[data['trip_duration']>2092].index)\n",
    "\n"
   ]
  },
  {
   "cell_type": "code",
   "execution_count": 92,
   "id": "62657f5a",
   "metadata": {},
   "outputs": [
    {
     "data": {
      "text/html": [
       "<div>\n",
       "<style scoped>\n",
       "    .dataframe tbody tr th:only-of-type {\n",
       "        vertical-align: middle;\n",
       "    }\n",
       "\n",
       "    .dataframe tbody tr th {\n",
       "        vertical-align: top;\n",
       "    }\n",
       "\n",
       "    .dataframe thead th {\n",
       "        text-align: right;\n",
       "    }\n",
       "</style>\n",
       "<table border=\"1\" class=\"dataframe\">\n",
       "  <thead>\n",
       "    <tr style=\"text-align: right;\">\n",
       "      <th></th>\n",
       "      <th>vendor_id</th>\n",
       "      <th>pickup_datetime</th>\n",
       "      <th>dropoff_datetime</th>\n",
       "      <th>passenger_count</th>\n",
       "      <th>pickup_longitude</th>\n",
       "      <th>pickup_latitude</th>\n",
       "      <th>dropoff_longitude</th>\n",
       "      <th>dropoff_latitude</th>\n",
       "      <th>store_and_fwd_flag</th>\n",
       "      <th>trip_duration</th>\n",
       "      <th>longitude_distance</th>\n",
       "      <th>latitude_distance</th>\n",
       "    </tr>\n",
       "  </thead>\n",
       "  <tbody>\n",
       "  </tbody>\n",
       "</table>\n",
       "</div>"
      ],
      "text/plain": [
       "Empty DataFrame\n",
       "Columns: [vendor_id, pickup_datetime, dropoff_datetime, passenger_count, pickup_longitude, pickup_latitude, dropoff_longitude, dropoff_latitude, store_and_fwd_flag, trip_duration, longitude_distance, latitude_distance]\n",
       "Index: []"
      ]
     },
     "execution_count": 92,
     "metadata": {},
     "output_type": "execute_result"
    }
   ],
   "source": [
    "data.loc[data['trip_duration']>2092]"
   ]
  },
  {
   "cell_type": "code",
   "execution_count": null,
   "id": "e2322b8c",
   "metadata": {},
   "outputs": [],
   "source": []
  },
  {
   "cell_type": "code",
   "execution_count": 93,
   "id": "757b67b4",
   "metadata": {},
   "outputs": [
    {
     "data": {
      "text/plain": [
       "vendor_id               int64\n",
       "pickup_datetime         int64\n",
       "dropoff_datetime        int64\n",
       "passenger_count         int64\n",
       "pickup_longitude      float64\n",
       "pickup_latitude       float64\n",
       "dropoff_longitude     float64\n",
       "dropoff_latitude      float64\n",
       "store_and_fwd_flag      int64\n",
       "trip_duration           int64\n",
       "longitude_distance    float64\n",
       "latitude_distance     float64\n",
       "dtype: object"
      ]
     },
     "execution_count": 93,
     "metadata": {},
     "output_type": "execute_result"
    }
   ],
   "source": [
    "data.dtypes"
   ]
  },
  {
   "attachments": {},
   "cell_type": "markdown",
   "id": "5f366da5",
   "metadata": {},
   "source": [
    "#  3. What is the target variable that you will be predicting in this dataset?\n",
    "\n",
    "- The target variable in this dataset is \"trip_duration\", which represents the time in seconds between the pickup and dropoff of a taxi trip.\n",
    "\n",
    "\n",
    "\n",
    "\n"
   ]
  },
  {
   "attachments": {},
   "cell_type": "markdown",
   "id": "d2407e1e",
   "metadata": {},
   "source": [
    "# 4. What are the independent variables that may influence the target variable?\n",
    "\n",
    "\n",
    "The independent variables that may influence the target variable are:\n",
    "\n",
    "- vendor_id: an identifier for the taxi company that provided the trip.\n",
    "\n",
    "- pickup_datetime: the date and time when the passenger(s) were picked up.\n",
    "\n",
    "- dropoff_datetime: the date and time when the passenger(s) were dropped off.\n",
    "\n",
    "- passenger_count: the number of passengers in the vehicle.\n",
    "\n",
    "- pickup_longitude: the longitude of the pickup location.\n",
    "\n",
    "- pickup_latitude: the latitude of the pickup location.\n",
    "\n",
    "- dropoff_longitude: the longitude of the dropoff location.\n",
    "\n",
    "- dropoff_latitude: the latitude of the dropoff location.\n"
   ]
  },
  {
   "attachments": {},
   "cell_type": "markdown",
   "id": "89ca272b",
   "metadata": {},
   "source": [
    "# 5.  What machine learning algorithm(s) would be appropriate for this prediction task?\n",
    "\n",
    "\n",
    "- Linear Regression :the target variable is a continuous variable (trip duration)"
   ]
  },
  {
   "attachments": {},
   "cell_type": "markdown",
   "id": "fc1eaae1",
   "metadata": {},
   "source": [
    "# Perform predictive modeling\n",
    "- Segregating variables: Independent and Dependent Variables\n",
    "- Splitting the data into train set and the test set\n",
    "- Implementing your model\n",
    "- Evaluate and interpret your model using different evaluation metrics\n"
   ]
  },
  {
   "cell_type": "markdown",
   "id": "84e2fa41",
   "metadata": {},
   "source": [
    "### Segregating variables: Independent and Dependent Variables"
   ]
  },
  {
   "cell_type": "code",
   "execution_count": 106,
   "id": "aaf97cc1",
   "metadata": {},
   "outputs": [
    {
     "data": {
      "text/plain": [
       "((692359, 11), (692359,))"
      ]
     },
     "execution_count": 106,
     "metadata": {},
     "output_type": "execute_result"
    }
   ],
   "source": [
    "from sklearn.utils import shuffle\n",
    "from sklearn.model_selection import train_test_split\n",
    "\n",
    "data = shuffle(data , random_state = 42)\n",
    "\n",
    "x = data.drop('trip_duration', axis=1)\n",
    "y = data[\"trip_duration\"] \n",
    "\n",
    "x.shape, y.shape\n"
   ]
  },
  {
   "cell_type": "code",
   "execution_count": 110,
   "id": "b60a4f3d",
   "metadata": {},
   "outputs": [
    {
     "data": {
      "text/html": [
       "<div>\n",
       "<style scoped>\n",
       "    .dataframe tbody tr th:only-of-type {\n",
       "        vertical-align: middle;\n",
       "    }\n",
       "\n",
       "    .dataframe tbody tr th {\n",
       "        vertical-align: top;\n",
       "    }\n",
       "\n",
       "    .dataframe thead th {\n",
       "        text-align: right;\n",
       "    }\n",
       "</style>\n",
       "<table border=\"1\" class=\"dataframe\">\n",
       "  <thead>\n",
       "    <tr style=\"text-align: right;\">\n",
       "      <th></th>\n",
       "      <th>vendor_id</th>\n",
       "      <th>pickup_datetime</th>\n",
       "      <th>dropoff_datetime</th>\n",
       "      <th>passenger_count</th>\n",
       "      <th>pickup_longitude</th>\n",
       "      <th>pickup_latitude</th>\n",
       "      <th>dropoff_longitude</th>\n",
       "      <th>dropoff_latitude</th>\n",
       "      <th>store_and_fwd_flag</th>\n",
       "      <th>longitude_distance</th>\n",
       "      <th>latitude_distance</th>\n",
       "    </tr>\n",
       "  </thead>\n",
       "  <tbody>\n",
       "    <tr>\n",
       "      <th>544730</th>\n",
       "      <td>2</td>\n",
       "      <td>1463350522</td>\n",
       "      <td>1463350914</td>\n",
       "      <td>1</td>\n",
       "      <td>-73.988625</td>\n",
       "      <td>40.764015</td>\n",
       "      <td>-73.986450</td>\n",
       "      <td>40.746506</td>\n",
       "      <td>0</td>\n",
       "      <td>0.002174</td>\n",
       "      <td>0.017509</td>\n",
       "    </tr>\n",
       "    <tr>\n",
       "      <th>604947</th>\n",
       "      <td>2</td>\n",
       "      <td>1461324125</td>\n",
       "      <td>1461325358</td>\n",
       "      <td>1</td>\n",
       "      <td>-73.995277</td>\n",
       "      <td>40.739899</td>\n",
       "      <td>-73.983322</td>\n",
       "      <td>40.751385</td>\n",
       "      <td>0</td>\n",
       "      <td>0.011955</td>\n",
       "      <td>0.011486</td>\n",
       "    </tr>\n",
       "    <tr>\n",
       "      <th>670689</th>\n",
       "      <td>1</td>\n",
       "      <td>1461833288</td>\n",
       "      <td>1461833648</td>\n",
       "      <td>1</td>\n",
       "      <td>-73.993385</td>\n",
       "      <td>40.758846</td>\n",
       "      <td>-73.988625</td>\n",
       "      <td>40.769444</td>\n",
       "      <td>0</td>\n",
       "      <td>0.004761</td>\n",
       "      <td>0.010597</td>\n",
       "    </tr>\n",
       "    <tr>\n",
       "      <th>371308</th>\n",
       "      <td>1</td>\n",
       "      <td>1458544091</td>\n",
       "      <td>1458544929</td>\n",
       "      <td>1</td>\n",
       "      <td>-73.991127</td>\n",
       "      <td>40.749622</td>\n",
       "      <td>-73.976707</td>\n",
       "      <td>40.751545</td>\n",
       "      <td>0</td>\n",
       "      <td>0.014420</td>\n",
       "      <td>0.001923</td>\n",
       "    </tr>\n",
       "    <tr>\n",
       "      <th>545186</th>\n",
       "      <td>2</td>\n",
       "      <td>1466857632</td>\n",
       "      <td>1466857789</td>\n",
       "      <td>1</td>\n",
       "      <td>-73.955681</td>\n",
       "      <td>40.779781</td>\n",
       "      <td>-73.959183</td>\n",
       "      <td>40.771542</td>\n",
       "      <td>0</td>\n",
       "      <td>0.003502</td>\n",
       "      <td>0.008240</td>\n",
       "    </tr>\n",
       "    <tr>\n",
       "      <th>...</th>\n",
       "      <td>...</td>\n",
       "      <td>...</td>\n",
       "      <td>...</td>\n",
       "      <td>...</td>\n",
       "      <td>...</td>\n",
       "      <td>...</td>\n",
       "      <td>...</td>\n",
       "      <td>...</td>\n",
       "      <td>...</td>\n",
       "      <td>...</td>\n",
       "      <td>...</td>\n",
       "    </tr>\n",
       "    <tr>\n",
       "      <th>222695</th>\n",
       "      <td>2</td>\n",
       "      <td>1461696758</td>\n",
       "      <td>1461697942</td>\n",
       "      <td>2</td>\n",
       "      <td>-73.991501</td>\n",
       "      <td>40.750000</td>\n",
       "      <td>-73.970177</td>\n",
       "      <td>40.799519</td>\n",
       "      <td>0</td>\n",
       "      <td>0.021324</td>\n",
       "      <td>0.049519</td>\n",
       "    </tr>\n",
       "    <tr>\n",
       "      <th>327636</th>\n",
       "      <td>1</td>\n",
       "      <td>1456766907</td>\n",
       "      <td>1456767279</td>\n",
       "      <td>1</td>\n",
       "      <td>-74.015297</td>\n",
       "      <td>40.713932</td>\n",
       "      <td>-74.004524</td>\n",
       "      <td>40.725590</td>\n",
       "      <td>0</td>\n",
       "      <td>0.010773</td>\n",
       "      <td>0.011658</td>\n",
       "    </tr>\n",
       "    <tr>\n",
       "      <th>115143</th>\n",
       "      <td>1</td>\n",
       "      <td>1451764879</td>\n",
       "      <td>1451765101</td>\n",
       "      <td>2</td>\n",
       "      <td>-73.999947</td>\n",
       "      <td>40.721935</td>\n",
       "      <td>-74.010307</td>\n",
       "      <td>40.709202</td>\n",
       "      <td>0</td>\n",
       "      <td>0.010361</td>\n",
       "      <td>0.012733</td>\n",
       "    </tr>\n",
       "    <tr>\n",
       "      <th>502098</th>\n",
       "      <td>2</td>\n",
       "      <td>1452869693</td>\n",
       "      <td>1452871191</td>\n",
       "      <td>6</td>\n",
       "      <td>-73.870651</td>\n",
       "      <td>40.773621</td>\n",
       "      <td>-73.961060</td>\n",
       "      <td>40.775082</td>\n",
       "      <td>0</td>\n",
       "      <td>0.090408</td>\n",
       "      <td>0.001461</td>\n",
       "    </tr>\n",
       "    <tr>\n",
       "      <th>206598</th>\n",
       "      <td>2</td>\n",
       "      <td>1454788206</td>\n",
       "      <td>1454789015</td>\n",
       "      <td>1</td>\n",
       "      <td>-73.979256</td>\n",
       "      <td>40.752617</td>\n",
       "      <td>-73.991264</td>\n",
       "      <td>40.770306</td>\n",
       "      <td>0</td>\n",
       "      <td>0.012009</td>\n",
       "      <td>0.017689</td>\n",
       "    </tr>\n",
       "  </tbody>\n",
       "</table>\n",
       "<p>692359 rows × 11 columns</p>\n",
       "</div>"
      ],
      "text/plain": [
       "        vendor_id  pickup_datetime  dropoff_datetime  passenger_count  \\\n",
       "544730          2       1463350522        1463350914                1   \n",
       "604947          2       1461324125        1461325358                1   \n",
       "670689          1       1461833288        1461833648                1   \n",
       "371308          1       1458544091        1458544929                1   \n",
       "545186          2       1466857632        1466857789                1   \n",
       "...           ...              ...               ...              ...   \n",
       "222695          2       1461696758        1461697942                2   \n",
       "327636          1       1456766907        1456767279                1   \n",
       "115143          1       1451764879        1451765101                2   \n",
       "502098          2       1452869693        1452871191                6   \n",
       "206598          2       1454788206        1454789015                1   \n",
       "\n",
       "        pickup_longitude  pickup_latitude  dropoff_longitude  \\\n",
       "544730        -73.988625        40.764015         -73.986450   \n",
       "604947        -73.995277        40.739899         -73.983322   \n",
       "670689        -73.993385        40.758846         -73.988625   \n",
       "371308        -73.991127        40.749622         -73.976707   \n",
       "545186        -73.955681        40.779781         -73.959183   \n",
       "...                  ...              ...                ...   \n",
       "222695        -73.991501        40.750000         -73.970177   \n",
       "327636        -74.015297        40.713932         -74.004524   \n",
       "115143        -73.999947        40.721935         -74.010307   \n",
       "502098        -73.870651        40.773621         -73.961060   \n",
       "206598        -73.979256        40.752617         -73.991264   \n",
       "\n",
       "        dropoff_latitude  store_and_fwd_flag  longitude_distance  \\\n",
       "544730         40.746506                   0            0.002174   \n",
       "604947         40.751385                   0            0.011955   \n",
       "670689         40.769444                   0            0.004761   \n",
       "371308         40.751545                   0            0.014420   \n",
       "545186         40.771542                   0            0.003502   \n",
       "...                  ...                 ...                 ...   \n",
       "222695         40.799519                   0            0.021324   \n",
       "327636         40.725590                   0            0.010773   \n",
       "115143         40.709202                   0            0.010361   \n",
       "502098         40.775082                   0            0.090408   \n",
       "206598         40.770306                   0            0.012009   \n",
       "\n",
       "        latitude_distance  \n",
       "544730           0.017509  \n",
       "604947           0.011486  \n",
       "670689           0.010597  \n",
       "371308           0.001923  \n",
       "545186           0.008240  \n",
       "...                   ...  \n",
       "222695           0.049519  \n",
       "327636           0.011658  \n",
       "115143           0.012733  \n",
       "502098           0.001461  \n",
       "206598           0.017689  \n",
       "\n",
       "[692359 rows x 11 columns]"
      ]
     },
     "execution_count": 110,
     "metadata": {},
     "output_type": "execute_result"
    }
   ],
   "source": [
    "x"
   ]
  },
  {
   "cell_type": "markdown",
   "id": "dfa0663e",
   "metadata": {},
   "source": [
    "# Splitting the data into train set and the test set"
   ]
  },
  {
   "cell_type": "code",
   "execution_count": 139,
   "id": "63cfb2a5",
   "metadata": {},
   "outputs": [],
   "source": [
    "train_x,test_x,train_y,test_y = train_test_split(x,y,test_size=0.25, random_state = 56)"
   ]
  },
  {
   "cell_type": "markdown",
   "id": "c4bd756d",
   "metadata": {},
   "source": [
    "#  Implementing model: linear regression"
   ]
  },
  {
   "cell_type": "code",
   "execution_count": 140,
   "id": "c79c8a01",
   "metadata": {},
   "outputs": [
    {
     "data": {
      "text/html": [
       "<style>#sk-container-id-8 {color: black;background-color: white;}#sk-container-id-8 pre{padding: 0;}#sk-container-id-8 div.sk-toggleable {background-color: white;}#sk-container-id-8 label.sk-toggleable__label {cursor: pointer;display: block;width: 100%;margin-bottom: 0;padding: 0.3em;box-sizing: border-box;text-align: center;}#sk-container-id-8 label.sk-toggleable__label-arrow:before {content: \"▸\";float: left;margin-right: 0.25em;color: #696969;}#sk-container-id-8 label.sk-toggleable__label-arrow:hover:before {color: black;}#sk-container-id-8 div.sk-estimator:hover label.sk-toggleable__label-arrow:before {color: black;}#sk-container-id-8 div.sk-toggleable__content {max-height: 0;max-width: 0;overflow: hidden;text-align: left;background-color: #f0f8ff;}#sk-container-id-8 div.sk-toggleable__content pre {margin: 0.2em;color: black;border-radius: 0.25em;background-color: #f0f8ff;}#sk-container-id-8 input.sk-toggleable__control:checked~div.sk-toggleable__content {max-height: 200px;max-width: 100%;overflow: auto;}#sk-container-id-8 input.sk-toggleable__control:checked~label.sk-toggleable__label-arrow:before {content: \"▾\";}#sk-container-id-8 div.sk-estimator input.sk-toggleable__control:checked~label.sk-toggleable__label {background-color: #d4ebff;}#sk-container-id-8 div.sk-label input.sk-toggleable__control:checked~label.sk-toggleable__label {background-color: #d4ebff;}#sk-container-id-8 input.sk-hidden--visually {border: 0;clip: rect(1px 1px 1px 1px);clip: rect(1px, 1px, 1px, 1px);height: 1px;margin: -1px;overflow: hidden;padding: 0;position: absolute;width: 1px;}#sk-container-id-8 div.sk-estimator {font-family: monospace;background-color: #f0f8ff;border: 1px dotted black;border-radius: 0.25em;box-sizing: border-box;margin-bottom: 0.5em;}#sk-container-id-8 div.sk-estimator:hover {background-color: #d4ebff;}#sk-container-id-8 div.sk-parallel-item::after {content: \"\";width: 100%;border-bottom: 1px solid gray;flex-grow: 1;}#sk-container-id-8 div.sk-label:hover label.sk-toggleable__label {background-color: #d4ebff;}#sk-container-id-8 div.sk-serial::before {content: \"\";position: absolute;border-left: 1px solid gray;box-sizing: border-box;top: 0;bottom: 0;left: 50%;z-index: 0;}#sk-container-id-8 div.sk-serial {display: flex;flex-direction: column;align-items: center;background-color: white;padding-right: 0.2em;padding-left: 0.2em;position: relative;}#sk-container-id-8 div.sk-item {position: relative;z-index: 1;}#sk-container-id-8 div.sk-parallel {display: flex;align-items: stretch;justify-content: center;background-color: white;position: relative;}#sk-container-id-8 div.sk-item::before, #sk-container-id-8 div.sk-parallel-item::before {content: \"\";position: absolute;border-left: 1px solid gray;box-sizing: border-box;top: 0;bottom: 0;left: 50%;z-index: -1;}#sk-container-id-8 div.sk-parallel-item {display: flex;flex-direction: column;z-index: 1;position: relative;background-color: white;}#sk-container-id-8 div.sk-parallel-item:first-child::after {align-self: flex-end;width: 50%;}#sk-container-id-8 div.sk-parallel-item:last-child::after {align-self: flex-start;width: 50%;}#sk-container-id-8 div.sk-parallel-item:only-child::after {width: 0;}#sk-container-id-8 div.sk-dashed-wrapped {border: 1px dashed gray;margin: 0 0.4em 0.5em 0.4em;box-sizing: border-box;padding-bottom: 0.4em;background-color: white;}#sk-container-id-8 div.sk-label label {font-family: monospace;font-weight: bold;display: inline-block;line-height: 1.2em;}#sk-container-id-8 div.sk-label-container {text-align: center;}#sk-container-id-8 div.sk-container {/* jupyter's `normalize.less` sets `[hidden] { display: none; }` but bootstrap.min.css set `[hidden] { display: none !important; }` so we also need the `!important` here to be able to override the default hidden behavior on the sphinx rendered scikit-learn.org. See: https://github.com/scikit-learn/scikit-learn/issues/21755 */display: inline-block !important;position: relative;}#sk-container-id-8 div.sk-text-repr-fallback {display: none;}</style><div id=\"sk-container-id-8\" class=\"sk-top-container\"><div class=\"sk-text-repr-fallback\"><pre>LinearRegression()</pre><b>In a Jupyter environment, please rerun this cell to show the HTML representation or trust the notebook. <br />On GitHub, the HTML representation is unable to render, please try loading this page with nbviewer.org.</b></div><div class=\"sk-container\" hidden><div class=\"sk-item\"><div class=\"sk-estimator sk-toggleable\"><input class=\"sk-toggleable__control sk-hidden--visually\" id=\"sk-estimator-id-8\" type=\"checkbox\" checked><label for=\"sk-estimator-id-8\" class=\"sk-toggleable__label sk-toggleable__label-arrow\">LinearRegression</label><div class=\"sk-toggleable__content\"><pre>LinearRegression()</pre></div></div></div></div></div>"
      ],
      "text/plain": [
       "LinearRegression()"
      ]
     },
     "execution_count": 140,
     "metadata": {},
     "output_type": "execute_result"
    }
   ],
   "source": [
    "from sklearn.linear_model import LinearRegression as linear\n",
    "from sklearn.metrics import mean_absolute_error as mae\n",
    "from sklearn.metrics import mean_squared_error as mse\n",
    "from sklearn.metrics import r2_score\n",
    "\n",
    "\n",
    "\n",
    "lr = linear()\n",
    "lr.fit(train_x, train_y)\n",
    "\n",
    "\n"
   ]
  },
  {
   "cell_type": "markdown",
   "id": "447fbdb9",
   "metadata": {},
   "source": [
    " "
   ]
  },
  {
   "cell_type": "code",
   "execution_count": 141,
   "id": "d118fd0e",
   "metadata": {},
   "outputs": [
    {
     "data": {
      "text/plain": [
       "1.6511876352209168e-07"
      ]
     },
     "execution_count": 141,
     "metadata": {},
     "output_type": "execute_result"
    }
   ],
   "source": [
    "prediction = lr.predict(train_x)\n",
    "m_a_e = mae(prediction ,train_y)\n",
    "m_a_e\n",
    "\n",
    "\n"
   ]
  },
  {
   "cell_type": "code",
   "execution_count": 142,
   "id": "7f87bdc9",
   "metadata": {},
   "outputs": [
    {
     "data": {
      "text/plain": [
       "1.6509168326052552e-07"
      ]
     },
     "execution_count": 142,
     "metadata": {},
     "output_type": "execute_result"
    }
   ],
   "source": [
    "prediction = lr.predict(test_x)\n",
    "m_a_e = mae(prediction ,test_y)\n",
    "m_a_e\n"
   ]
  },
  {
   "cell_type": "markdown",
   "id": "5593d502",
   "metadata": {},
   "source": [
    "#  Evaluate and interpret your model using different evaluation metrics"
   ]
  },
  {
   "cell_type": "code",
   "execution_count": 143,
   "id": "d17615d9",
   "metadata": {},
   "outputs": [
    {
     "data": {
      "text/plain": [
       "2.8981875312951405e-14"
      ]
     },
     "execution_count": 143,
     "metadata": {},
     "output_type": "execute_result"
    }
   ],
   "source": [
    "#Evaluating the model using Mean Squared Error\n",
    "\n",
    "mean_sq_error = mse(test_y , prediction)\n",
    "mean_sq_error\n",
    "\n",
    "\n"
   ]
  },
  {
   "cell_type": "code",
   "execution_count": 144,
   "id": "887066e9",
   "metadata": {},
   "outputs": [
    {
     "data": {
      "text/plain": [
       "1.6509168326052552e-07"
      ]
     },
     "execution_count": 144,
     "metadata": {},
     "output_type": "execute_result"
    }
   ],
   "source": [
    "#Evaluating the model using Mean Absolute Error\n",
    "prediction = lr.predict(test_x)\n",
    "mean_abs_err = mae(prediction ,test_y)\n",
    "mean_abs_err\n"
   ]
  },
  {
   "cell_type": "code",
   "execution_count": 145,
   "id": "1dc5b234",
   "metadata": {},
   "outputs": [
    {
     "data": {
      "text/plain": [
       "1.7024063942828517e-07"
      ]
     },
     "execution_count": 145,
     "metadata": {},
     "output_type": "execute_result"
    }
   ],
   "source": [
    "#Evaluating the model using Root Mean Squared Error\n",
    "\n",
    "r_mean_sq_err = np.sqrt(mean_sq_error)\n",
    "r_mean_sq_err\n"
   ]
  },
  {
   "cell_type": "code",
   "execution_count": 133,
   "id": "de6a2955",
   "metadata": {},
   "outputs": [
    {
     "data": {
      "text/plain": [
       "1.0"
      ]
     },
     "execution_count": 133,
     "metadata": {},
     "output_type": "execute_result"
    }
   ],
   "source": [
    "#Evaluating the model using R-squared\n",
    "r_squared = r2_score(test_y,prediction)\n",
    "r_squared"
   ]
  },
  {
   "cell_type": "code",
   "execution_count": null,
   "id": "b900f707",
   "metadata": {},
   "outputs": [],
   "source": []
  }
 ],
 "metadata": {
  "kernelspec": {
   "display_name": "Python 3 (ipykernel)",
   "language": "python",
   "name": "python3"
  },
  "language_info": {
   "codemirror_mode": {
    "name": "ipython",
    "version": 3
   },
   "file_extension": ".py",
   "mimetype": "text/x-python",
   "name": "python",
   "nbconvert_exporter": "python",
   "pygments_lexer": "ipython3",
   "version": "3.10.9"
  }
 },
 "nbformat": 4,
 "nbformat_minor": 5
}
